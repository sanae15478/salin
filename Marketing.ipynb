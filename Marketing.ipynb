{
  "nbformat": 4,
  "nbformat_minor": 0,
  "metadata": {
    "colab": {
      "provenance": [],
      "authorship_tag": "ABX9TyOVqLFs/8WlW8jIfvHx5L2M",
      "include_colab_link": true
    },
    "kernelspec": {
      "name": "python3",
      "display_name": "Python 3"
    },
    "language_info": {
      "name": "python"
    }
  },
  "cells": [
    {
      "cell_type": "markdown",
      "metadata": {
        "id": "view-in-github",
        "colab_type": "text"
      },
      "source": [
        "<a href=\"https://colab.research.google.com/github/sanae15478/salin/blob/master/Marketing.ipynb\" target=\"_parent\"><img src=\"https://colab.research.google.com/assets/colab-badge.svg\" alt=\"Open In Colab\"/></a>"
      ]
    },
    {
      "cell_type": "code",
      "execution_count": 1,
      "metadata": {
        "colab": {
          "base_uri": "https://localhost:8080/"
        },
        "id": "JsrdAXGY5-76",
        "outputId": "97f27c4c-2a8a-4104-e6eb-df486007e04f"
      },
      "outputs": [
        {
          "output_type": "stream",
          "name": "stdout",
          "text": [
            "Mounted at /content/drive\n"
          ]
        }
      ],
      "source": [
        "from google.colab import drive\n",
        "drive.mount('/content/drive')\n"
      ]
    },
    {
      "cell_type": "code",
      "source": [
        "!ls /content/drive/MyDrive/rossmann-store-sales\n"
      ],
      "metadata": {
        "colab": {
          "base_uri": "https://localhost:8080/"
        },
        "id": "d0fh1BdM62eN",
        "outputId": "ab0c86b1-00b6-4d4b-c4cc-0d6c54b9a679"
      },
      "execution_count": 2,
      "outputs": [
        {
          "output_type": "stream",
          "name": "stdout",
          "text": [
            "sample_submission.csv  store.csv  test.csv  train.csv\n"
          ]
        }
      ]
    },
    {
      "cell_type": "code",
      "source": [
        "import pandas as pd"
      ],
      "metadata": {
        "id": "K--VxrZq65kV"
      },
      "execution_count": 3,
      "outputs": []
    },
    {
      "cell_type": "code",
      "source": [
        "path = '/content/drive/MyDrive/rossmann-store-sales/'\n"
      ],
      "metadata": {
        "id": "sQEKPUqV7AmN"
      },
      "execution_count": 4,
      "outputs": []
    },
    {
      "cell_type": "code",
      "source": [
        "train = pd.read_csv(path + 'train.csv')"
      ],
      "metadata": {
        "colab": {
          "base_uri": "https://localhost:8080/"
        },
        "id": "3MgQ9yLz7ENH",
        "outputId": "3da97afc-1d44-4786-8947-4c66721cf21d"
      },
      "execution_count": 5,
      "outputs": [
        {
          "output_type": "stream",
          "name": "stderr",
          "text": [
            "<ipython-input-5-d3fafd397389>:1: DtypeWarning: Columns (7) have mixed types. Specify dtype option on import or set low_memory=False.\n",
            "  train = pd.read_csv(path + 'train.csv')\n"
          ]
        }
      ]
    },
    {
      "cell_type": "code",
      "source": [
        "test = pd.read_csv(path + 'test.csv')"
      ],
      "metadata": {
        "id": "0Tzowgbd7NEt"
      },
      "execution_count": 6,
      "outputs": []
    },
    {
      "cell_type": "code",
      "source": [
        "store = pd.read_csv(path + 'store.csv')"
      ],
      "metadata": {
        "id": "uxfohpR87QWZ"
      },
      "execution_count": 7,
      "outputs": []
    },
    {
      "cell_type": "code",
      "source": [
        "sample_submission = pd.read_csv(path + 'sample_submission.csv')"
      ],
      "metadata": {
        "id": "aPqSMrjy7Tvu"
      },
      "execution_count": 8,
      "outputs": []
    },
    {
      "cell_type": "code",
      "source": [
        "print(train.head())"
      ],
      "metadata": {
        "colab": {
          "base_uri": "https://localhost:8080/"
        },
        "id": "B3jfWnu47XVE",
        "outputId": "d6d564da-9317-4051-cc84-576849bac2bf"
      },
      "execution_count": 9,
      "outputs": [
        {
          "output_type": "stream",
          "name": "stdout",
          "text": [
            "   Store  DayOfWeek        Date  Sales  Customers  Open  Promo StateHoliday  \\\n",
            "0      1          5  2015-07-31   5263        555     1      1            0   \n",
            "1      2          5  2015-07-31   6064        625     1      1            0   \n",
            "2      3          5  2015-07-31   8314        821     1      1            0   \n",
            "3      4          5  2015-07-31  13995       1498     1      1            0   \n",
            "4      5          5  2015-07-31   4822        559     1      1            0   \n",
            "\n",
            "   SchoolHoliday  \n",
            "0              1  \n",
            "1              1  \n",
            "2              1  \n",
            "3              1  \n",
            "4              1  \n"
          ]
        }
      ]
    },
    {
      "cell_type": "code",
      "source": [
        "print(test.head())"
      ],
      "metadata": {
        "colab": {
          "base_uri": "https://localhost:8080/"
        },
        "id": "deT3WKoj7emC",
        "outputId": "e64399e2-175d-4582-9213-a8f8007c6ddb"
      },
      "execution_count": 10,
      "outputs": [
        {
          "output_type": "stream",
          "name": "stdout",
          "text": [
            "   Id  Store  DayOfWeek        Date  Open  Promo StateHoliday  SchoolHoliday\n",
            "0   1      1          4  2015-09-17   1.0      1            0              0\n",
            "1   2      3          4  2015-09-17   1.0      1            0              0\n",
            "2   3      7          4  2015-09-17   1.0      1            0              0\n",
            "3   4      8          4  2015-09-17   1.0      1            0              0\n",
            "4   5      9          4  2015-09-17   1.0      1            0              0\n"
          ]
        }
      ]
    },
    {
      "cell_type": "code",
      "source": [
        "print(store.head())"
      ],
      "metadata": {
        "colab": {
          "base_uri": "https://localhost:8080/"
        },
        "id": "TDolCzaZ7inO",
        "outputId": "57cfef84-a0a9-49af-b9a0-62f7736b3567"
      },
      "execution_count": 11,
      "outputs": [
        {
          "output_type": "stream",
          "name": "stdout",
          "text": [
            "   Store StoreType Assortment  CompetitionDistance  CompetitionOpenSinceMonth  \\\n",
            "0      1         c          a               1270.0                        9.0   \n",
            "1      2         a          a                570.0                       11.0   \n",
            "2      3         a          a              14130.0                       12.0   \n",
            "3      4         c          c                620.0                        9.0   \n",
            "4      5         a          a              29910.0                        4.0   \n",
            "\n",
            "   CompetitionOpenSinceYear  Promo2  Promo2SinceWeek  Promo2SinceYear  \\\n",
            "0                    2008.0       0              NaN              NaN   \n",
            "1                    2007.0       1             13.0           2010.0   \n",
            "2                    2006.0       1             14.0           2011.0   \n",
            "3                    2009.0       0              NaN              NaN   \n",
            "4                    2015.0       0              NaN              NaN   \n",
            "\n",
            "     PromoInterval  \n",
            "0              NaN  \n",
            "1  Jan,Apr,Jul,Oct  \n",
            "2  Jan,Apr,Jul,Oct  \n",
            "3              NaN  \n",
            "4              NaN  \n"
          ]
        }
      ]
    },
    {
      "cell_type": "code",
      "source": [
        "print(sample_submission.head())"
      ],
      "metadata": {
        "colab": {
          "base_uri": "https://localhost:8080/"
        },
        "id": "Q5-pICZQ7nBQ",
        "outputId": "6144c6ea-dc7c-4c31-dff4-5f1fda6ac334"
      },
      "execution_count": 12,
      "outputs": [
        {
          "output_type": "stream",
          "name": "stdout",
          "text": [
            "   Id  Sales\n",
            "0   1      0\n",
            "1   2      0\n",
            "2   3      0\n",
            "3   4      0\n",
            "4   5      0\n"
          ]
        }
      ]
    },
    {
      "cell_type": "code",
      "source": [],
      "metadata": {
        "id": "K6m6BMCB7sCX"
      },
      "execution_count": null,
      "outputs": []
    }
  ]
}